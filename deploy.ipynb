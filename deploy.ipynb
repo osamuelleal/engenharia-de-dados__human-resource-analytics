{
 "cells": [
  {
   "cell_type": "code",
   "execution_count": 1,
   "id": "08232f4e",
   "metadata": {},
   "outputs": [
    {
     "name": "stderr",
     "output_type": "stream",
     "text": [
      "2021-11-30 14:23:28.443 INFO    numexpr.utils: NumExpr defaulting to 8 threads.\n",
      "2021-11-30 14:23:29.012 INFO    logs: Initializing load_model()\n",
      "2021-11-30 14:23:29.014 INFO    logs: load_model(model_name=model, platform=None, authentication=None, verbose=True)\n"
     ]
    },
    {
     "name": "stdout",
     "output_type": "stream",
     "text": [
      "Transformation Pipeline and Model Successfully Loaded\n",
      "   department  salary  averageMonthlyHours  projectCount  satisfaction  \\\n",
      "0           7       1                  266             2          38.0   \n",
      "1           7       2                  252             5          80.0   \n",
      "2           7       2                  289             7          11.0   \n",
      "3           7       1                  275             5          72.0   \n",
      "4           7       1                  292             2          37.0   \n",
      "\n",
      "   evaluation  yearsAtCompany  workAccident  turnover  \n",
      "0        53.0               3             0         1  \n",
      "1        86.0               6             0         1  \n",
      "2        88.0               4             0         1  \n",
      "3        87.0               5             0         1  \n",
      "4        52.0               3             0         1  \n"
     ]
    },
    {
     "name": "stderr",
     "output_type": "stream",
     "text": [
      "2021-11-30 14:23:30.332 \n",
      "  \u001b[33m\u001b[1mWarning:\u001b[0m to view this Streamlit app on a browser, run it with the following\n",
      "  command:\n",
      "\n",
      "    streamlit run C:\\ProgramData\\Anaconda3\\lib\\site-packages\\ipykernel_launcher.py [ARGUMENTS]\n"
     ]
    }
   ],
   "source": [
    "#carregando as bibliotecas\n",
    "import pandas as pd\n",
    "import streamlit as st\n",
    "from minio import Minio\n",
    "import pickle\n",
    "import joblib\n",
    "import matplotlib.pyplot as plt\n",
    "from pycaret.classification import load_model, predict_model\n",
    "\n",
    "#Baixando os aquivos do Data Lake\n",
    "client = Minio(\n",
    "        \"localhost:9000\",\n",
    "        access_key=\"minioadmin\",\n",
    "        secret_key=\"minioadmin\",\n",
    "        secure=False\n",
    "    )\n",
    "\n",
    "#modelo de classificacao,dataset e cluster.\n",
    "client.fget_object(\"curated\",\"model.pkl\",\"model.pkl\")\n",
    "client.fget_object(\"curated\",\"dataset.csv\",\"dataset.csv\")\n",
    "client.fget_object(\"curated\",\"cluster.joblib\",\"cluster.joblib\")\n",
    "\n",
    "var_model = \"model\"\n",
    "var_model_cluster = \"cluster.joblib\"\n",
    "var_dataset = \"dataset.csv\"\n",
    "\n",
    "#carregando o modelo treinado.\n",
    "model = load_model(var_model)\n",
    "model_cluster = joblib.load(var_model_cluster)\n",
    "\n",
    "#carregando o conjunto de dados.\n",
    "dataset = pd.read_csv(var_dataset)\n",
    "\n",
    "print (dataset.head())\n",
    "\n",
    "# título\n",
    "st.title(\"Bootcamp de Data Science - Human Resource Analytics\")\n",
    "\n",
    "# subtítulo\n",
    "st.markdown(\"Este é um Data App utilizado para exibir a solução de Machine Learning para o problema de Human Resource Analytics.\")\n",
    "\n",
    "# imprime o conjunto de dados usado\n",
    "st.dataframe(dataset.head())\n",
    "\n",
    "# grupos de empregados.\n",
    "kmeans_colors = ['green' if c == 0 else 'red' if c == 1 else 'blue' for c in model_cluster.labels_]\n",
    "\n",
    "st.sidebar.subheader(\"Defina os atributos do empregado para predição de turnover\")\n",
    "\n",
    "# mapeando dados do usuário para cada atributo\n",
    "satisfaction = st.sidebar.number_input(\"satisfaction\", value=dataset[\"satisfaction\"].mean())\n",
    "evaluation = st.sidebar.number_input(\"evaluation\", value=dataset[\"evaluation\"].mean())\n",
    "averageMonthlyHours = st.sidebar.number_input(\"averageMonthlyHours\", value=dataset[\"averageMonthlyHours\"].mean())\n",
    "yearsAtCompany = st.sidebar.number_input(\"yearsAtCompany\", value=dataset[\"yearsAtCompany\"].mean())\n",
    "\n",
    "# inserindo um botão na tela\n",
    "btn_predict = st.sidebar.button(\"Realizar Classificação\")\n",
    "\n",
    "# verifica se o botão foi acionado\n",
    "if btn_predict:\n",
    "    data_teste = pd.DataFrame()\n",
    "    data_teste[\"satisfaction\"] = [satisfaction]\n",
    "    data_teste[\"evaluation\"] =\t[evaluation]    \n",
    "    data_teste[\"averageMonthlyHours\"] = [averageMonthlyHours]\n",
    "    data_teste[\"yearsAtCompany\"] = [yearsAtCompany]\n",
    "    \n",
    "    #imprime os dados de teste    \n",
    "    print(data_teste)\n",
    "\n",
    "    #realiza a predição\n",
    "    result = predict_model(model, data=data_teste)\n",
    "    \n",
    "    st.write(result)\n",
    "\n",
    "    fig = plt.figure(figsize=(10, 6))\n",
    "    plt.scatter( x=\"satisfaction\"\n",
    "                ,y=\"evaluation\"\n",
    "                ,data=dataset[dataset.turnover==1],\n",
    "                alpha=0.25,color = kmeans_colors)\n",
    "\n",
    "    plt.xlabel(\"Satisfaction\")\n",
    "    plt.ylabel(\"Evaluation\")\n",
    "\n",
    "    plt.scatter( x=model_cluster.cluster_centers_[:,0]\n",
    "                ,y=model_cluster.cluster_centers_[:,1]\n",
    "                ,color=\"black\"\n",
    "                ,marker=\"X\",s=100)\n",
    "    \n",
    "    plt.scatter( x=[satisfaction]\n",
    "                ,y=[evaluation]\n",
    "                ,color=\"yellow\"\n",
    "                ,marker=\"X\",s=300)\n",
    "\n",
    "    plt.title(\"Grupos de Empregados - Satisfação vs Avaliação.\")\n",
    "    plt.show()\n",
    "    st.pyplot(fig) "
   ]
  },
  {
   "cell_type": "code",
   "execution_count": 11,
   "id": "9dd937df",
   "metadata": {},
   "outputs": [
    {
     "name": "stderr",
     "output_type": "stream",
     "text": [
      "'ls' nÆo ‚ reconhecido como um comando interno\n",
      "ou externo, um programa oper vel ou um arquivo em lotes.\n"
     ]
    }
   ],
   "source": [
    "!ls"
   ]
  },
  {
   "cell_type": "code",
   "execution_count": null,
   "id": "52327cf2",
   "metadata": {},
   "outputs": [],
   "source": []
  }
 ],
 "metadata": {
  "kernelspec": {
   "display_name": "Python 3",
   "language": "python",
   "name": "python3"
  },
  "language_info": {
   "codemirror_mode": {
    "name": "ipython",
    "version": 3
   },
   "file_extension": ".py",
   "mimetype": "text/x-python",
   "name": "python",
   "nbconvert_exporter": "python",
   "pygments_lexer": "ipython3",
   "version": "3.8.8"
  }
 },
 "nbformat": 4,
 "nbformat_minor": 5
}
